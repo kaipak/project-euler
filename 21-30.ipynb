{
 "cells": [
  {
   "cell_type": "code",
   "execution_count": 64,
   "metadata": {},
   "outputs": [],
   "source": [
    "%load_ext line_profiler"
   ]
  },
  {
   "cell_type": "code",
   "execution_count": 28,
   "metadata": {},
   "outputs": [],
   "source": [
    "import numpy as np\n",
    "from random import random"
   ]
  },
  {
   "cell_type": "markdown",
   "metadata": {},
   "source": [
    "### 21. Amicable Numbers\n",
    "Let d(n) be defined as the sum of proper divisors of n (numbers less than n which divide evenly into n).\n",
    "If d(a) = b and d(b) = a, where a ≠ b, then a and b are an amicable pair and each of a and b are called amicable numbers.\n",
    "\n",
    "For example, the proper divisors of 220 are 1, 2, 4, 5, 10, 11, 20, 22, 44, 55 and 110; therefore d(220) = 284. The proper divisors of 284 are 1, 2, 4, 71 and 142; so d(284) = 220.\n",
    "\n",
    "Evaluate the sum of all the amicable numbers under 10000.\n"
   ]
  },
  {
   "cell_type": "code",
   "execution_count": 13,
   "metadata": {},
   "outputs": [],
   "source": [
    "def get_divisors(num: int) -> int:\n",
    "    divisors = np.array([n for n in range(1, (num // 2) + 1) if not num % n])\n",
    "    return divisors"
   ]
  },
  {
   "cell_type": "code",
   "execution_count": 14,
   "metadata": {},
   "outputs": [
    {
     "name": "stdout",
     "output_type": "stream",
     "text": [
      "Found amicable numbers, since 220 equals d(284) = 220\n",
      "Found amicable numbers, since 284 equals d(220) = 284\n",
      "Found amicable numbers, since 1184 equals d(1210) = 1184\n",
      "Found amicable numbers, since 1210 equals d(1184) = 1210\n",
      "Found amicable numbers, since 2620 equals d(2924) = 2620\n",
      "Found amicable numbers, since 2924 equals d(2620) = 2924\n",
      "Found amicable numbers, since 5020 equals d(5564) = 5020\n",
      "Found amicable numbers, since 5564 equals d(5020) = 5564\n",
      "Found amicable numbers, since 6232 equals d(6368) = 6232\n",
      "Found amicable numbers, since 6368 equals d(6232) = 6368\n"
     ]
    }
   ],
   "source": [
    "upper_range = 10000\n",
    "div_sum = np.zeros((upper_range + 1), dtype='int')\n",
    "amic_sum = 0\n",
    "for i in range(1, upper_range + 1, 1):\n",
    "    d_i = np.uint16(np.sum(get_divisors(i)))\n",
    "    d_d_i = np.uint16(np.sum(get_divisors(d_i)))\n",
    "    if (d_d_i == i) and (d_i != i):\n",
    "        print(f\"Found amicable numbers, since {i} equals d({d_i}) = {d_d_i}\")\n",
    "        amic_sum += i\n",
    "        amic_sum += d_i"
   ]
  },
  {
   "cell_type": "markdown",
   "metadata": {},
   "source": [
    "## 22. Name Scores\n",
    "Using names.txt (right click and 'Save Link/Target As...'), a 46K text file containing over five-thousand first names, begin by sorting it into alphabetical order. Then working out the alphabetical value for each name, multiply this value by its alphabetical position in the list to obtain a name score.\n",
    "\n",
    "For example, when the list is sorted into alphabetical order, COLIN, which is worth 3 + 15 + 12 + 9 + 14 = 53, is the 938th name in the list. So, COLIN would obtain a score of 938 × 53 = 49714.\n",
    "\n",
    "What is the total of all the name scores in the file?\n"
   ]
  },
  {
   "cell_type": "code",
   "execution_count": 15,
   "metadata": {},
   "outputs": [],
   "source": [
    "file = sorted(open('data/p022_names.txt').read().replace(\"\\\"\", \"\").split(\",\"))"
   ]
  },
  {
   "cell_type": "code",
   "execution_count": 16,
   "metadata": {},
   "outputs": [],
   "source": [
    "import string\n",
    "alpha_list = list(string.ascii_lowercase)\n",
    "alpha_vals = {alpha_list[n - 1]: n for n in range(1, 27)}\n",
    "file_test = file[:20]"
   ]
  },
  {
   "cell_type": "code",
   "execution_count": 10,
   "metadata": {},
   "outputs": [],
   "source": [
    "total_score = 0\n",
    "\n",
    "for i, name in enumerate(file):\n",
    "    name_score = 0\n",
    "    for letter in name.lower():\n",
    "        name_score += alpha_vals[letter]\n",
    "    name_score *= i + 1\n",
    "    total_score += name_score\n",
    "\n",
    "#print(f\"Total score is: {total_score}\")"
   ]
  },
  {
   "cell_type": "markdown",
   "metadata": {},
   "source": [
    "## 23. Non-abundant sums\n",
    "\n",
    "A perfect number is a number for which the sum of its proper divisors is exactly equal to the number. For example, the sum of the proper divisors of 28 would be 1 + 2 + 4 + 7 + 14 = 28, which means that 28 is a perfect number.\n",
    "\n",
    "A number n is called deficient if the sum of its proper divisors is less than n and it is called abundant if this sum exceeds n.\n",
    "\n",
    "As 12 is the smallest abundant number, 1 + 2 + 3 + 4 + 6 = 16, the smallest number that can be written as the sum of two abundant numbers is 24. By mathematical analysis, it can be shown that all integers greater than 28123 can be written as the sum of two abundant numbers. However, this upper limit cannot be reduced any further by analysis even though it is known that the greatest number that cannot be expressed as the sum of two abundant numbers is less than this limit.\n",
    "\n",
    "Find the sum of all the positive integers which cannot be written as the sum of two abundant numbers.\n"
   ]
  },
  {
   "cell_type": "code",
   "execution_count": 80,
   "metadata": {},
   "outputs": [],
   "source": [
    "from array import array\n",
    "import bisect\n",
    "\n",
    "\n",
    "#limit = 28123\n",
    "def func_(limit):\n",
    "    limit = limit\n",
    "    abnums = array('l')\n",
    "    sums = array('l')\n",
    "    for i in range(1, limit + 1):\n",
    "        div_sum = np.sum(get_divisors(i))\n",
    "        if (div_sum > i): # and (i not in abnums):\n",
    "            abnums.append(i)\n",
    "    for i, n_ in enumerate(abnums):\n",
    "        \n",
    "    return sums"
   ]
  },
  {
   "cell_type": "code",
   "execution_count": 83,
   "metadata": {},
   "outputs": [
    {
     "data": {
      "text/plain": [
       "Timer unit: 1e-06 s"
      ]
     },
     "metadata": {},
     "output_type": "display_data"
    }
   ],
   "source": [
    "%lprun -f func_(20000)"
   ]
  },
  {
   "cell_type": "code",
   "execution_count": 39,
   "metadata": {},
   "outputs": [
    {
     "name": "stdout",
     "output_type": "stream",
     "text": [
      "12\n",
      "18\n",
      "20\n",
      "24\n",
      "30\n",
      "36\n",
      "40\n",
      "42\n",
      "48\n"
     ]
    }
   ],
   "source": [
    "for i in abnums:\n",
    "    print(i)"
   ]
  },
  {
   "cell_type": "code",
   "execution_count": null,
   "metadata": {},
   "outputs": [],
   "source": []
  }
 ],
 "metadata": {
  "kernelspec": {
   "display_name": "Python 3",
   "language": "python",
   "name": "python3"
  },
  "language_info": {
   "codemirror_mode": {
    "name": "ipython",
    "version": 3
   },
   "file_extension": ".py",
   "mimetype": "text/x-python",
   "name": "python",
   "nbconvert_exporter": "python",
   "pygments_lexer": "ipython3",
   "version": "3.7.3"
  }
 },
 "nbformat": 4,
 "nbformat_minor": 4
}
