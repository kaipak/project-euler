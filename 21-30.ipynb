{
 "cells": [
  {
   "cell_type": "code",
   "execution_count": 15,
   "metadata": {},
   "outputs": [],
   "source": [
    "import numpy as np"
   ]
  },
  {
   "cell_type": "markdown",
   "metadata": {},
   "source": [
    "### 21. Amicable Numbers\n",
    "Let d(n) be defined as the sum of proper divisors of n (numbers less than n which divide evenly into n).\n",
    "If d(a) = b and d(b) = a, where a ≠ b, then a and b are an amicable pair and each of a and b are called amicable numbers.\n",
    "\n",
    "For example, the proper divisors of 220 are 1, 2, 4, 5, 10, 11, 20, 22, 44, 55 and 110; therefore d(220) = 284. The proper divisors of 284 are 1, 2, 4, 71 and 142; so d(284) = 220.\n",
    "\n",
    "Evaluate the sum of all the amicable numbers under 10000.\n"
   ]
  },
  {
   "cell_type": "code",
   "execution_count": 85,
   "metadata": {},
   "outputs": [],
   "source": [
    "def get_divisors(num: int) -> int:\n",
    "    divisors = [n for n in range(1, (num // 2) + 1) if not num % n]\n",
    "    return divisors"
   ]
  },
  {
   "cell_type": "code",
   "execution_count": 93,
   "metadata": {},
   "outputs": [
    {
     "name": "stdout",
     "output_type": "stream",
     "text": [
      "Found amicable numbers, since 220 equals d(284) = 220\n",
      "Found amicable numbers, since 284 equals d(220) = 284\n",
      "Found amicable numbers, since 1184 equals d(1210) = 1184\n",
      "Found amicable numbers, since 1210 equals d(1184) = 1210\n",
      "Found amicable numbers, since 2620 equals d(2924) = 2620\n",
      "Found amicable numbers, since 2924 equals d(2620) = 2924\n",
      "Found amicable numbers, since 5020 equals d(5564) = 5020\n",
      "Found amicable numbers, since 5564 equals d(5020) = 5564\n",
      "Found amicable numbers, since 6232 equals d(6368) = 6232\n",
      "Found amicable numbers, since 6368 equals d(6232) = 6368\n"
     ]
    }
   ],
   "source": [
    "upper_range = 10000\n",
    "div_sum = np.zeros((upper_range + 1), dtype='int')\n",
    "amic_sum = 0\n",
    "for i in range(1, upper_range + 1, 1):\n",
    "    d_i = np.uint16(np.sum(get_divisors(i)))\n",
    "    d_d_i = np.uint16(np.sum(get_divisors(d_i)))\n",
    "    if (d_d_i == i) and (d_i != i):\n",
    "        print(f\"Found amicable numbers, since {i} equals d({d_i}) = {d_d_i}\")\n",
    "        amic_sum += i\n",
    "        amic_sum += d_i"
   ]
  },
  {
   "cell_type": "markdown",
   "metadata": {},
   "source": [
    "## 22. Name Scores\n",
    "Using names.txt (right click and 'Save Link/Target As...'), a 46K text file containing over five-thousand first names, begin by sorting it into alphabetical order. Then working out the alphabetical value for each name, multiply this value by its alphabetical position in the list to obtain a name score.\n",
    "\n",
    "For example, when the list is sorted into alphabetical order, COLIN, which is worth 3 + 15 + 12 + 9 + 14 = 53, is the 938th name in the list. So, COLIN would obtain a score of 938 × 53 = 49714.\n",
    "\n",
    "What is the total of all the name scores in the file?\n"
   ]
  },
  {
   "cell_type": "code",
   "execution_count": null,
   "metadata": {},
   "outputs": [],
   "source": []
  }
 ],
 "metadata": {
  "kernelspec": {
   "display_name": "Python 3",
   "language": "python",
   "name": "python3"
  },
  "language_info": {
   "codemirror_mode": {
    "name": "ipython",
    "version": 3
   },
   "file_extension": ".py",
   "mimetype": "text/x-python",
   "name": "python",
   "nbconvert_exporter": "python",
   "pygments_lexer": "ipython3",
   "version": "3.7.3"
  }
 },
 "nbformat": 4,
 "nbformat_minor": 4
}
